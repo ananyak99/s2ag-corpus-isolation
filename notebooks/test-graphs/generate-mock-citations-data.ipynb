{
 "cells": [
  {
   "cell_type": "code",
   "execution_count": 2,
   "id": "c2e4ef19903c6c5a",
   "metadata": {
    "ExecuteTime": {
     "end_time": "2024-06-03T14:48:47.553992344Z",
     "start_time": "2024-06-03T14:48:47.471977272Z"
    },
    "collapsed": false,
    "jupyter": {
     "outputs_hidden": false
    }
   },
   "outputs": [],
   "source": [
    "import networkx as nx\n",
    "from networkx.drawing.nx_pydot import write_dot"
   ]
  },
  {
   "cell_type": "markdown",
   "id": "719255c4bc6e8fc6",
   "metadata": {
    "collapsed": false,
    "jupyter": {
     "outputs_hidden": false
    }
   },
   "source": [
    "![citations-01](/home/romilly/git/active/s2ag-corpus/data/graphs/citations-01.png)"
   ]
  },
  {
   "cell_type": "code",
   "execution_count": 3,
   "id": "297d10aaefbe805b",
   "metadata": {
    "ExecuteTime": {
     "end_time": "2024-06-03T14:48:47.653637869Z",
     "start_time": "2024-06-03T14:48:47.555241323Z"
    },
    "collapsed": false,
    "jupyter": {
     "outputs_hidden": false
    }
   },
   "outputs": [],
   "source": [
    "\n",
    "def convert_graphml_to_dot(input_file, output_file):\n",
    "    # Read the GraphML file\n",
    "    G = nx.read_graphml(input_file)\n",
    "    print(G)\n",
    "  \n",
    "  \n",
    "    # Write to a DOT file\n",
    "    write_dot(G, output_file)\n"
   ]
  },
  {
   "cell_type": "code",
   "execution_count": 4,
   "id": "initial_id",
   "metadata": {
    "ExecuteTime": {
     "end_time": "2024-06-03T14:48:47.776956960Z",
     "start_time": "2024-06-03T14:48:47.605487948Z"
    }
   },
   "outputs": [
    {
     "ename": "FileNotFoundError",
     "evalue": "[Errno 2] No such file or directory: '/home/romilly/git/active/s2ag-corpus/data/graphs/citations-01.graphml'",
     "output_type": "error",
     "traceback": [
      "\u001b[31m---------------------------------------------------------------------------\u001b[39m",
      "\u001b[31mFileNotFoundError\u001b[39m                         Traceback (most recent call last)",
      "\u001b[36mCell\u001b[39m\u001b[36m \u001b[39m\u001b[32mIn[4]\u001b[39m\u001b[32m, line 3\u001b[39m\n\u001b[32m      1\u001b[39m input_file = \u001b[33m'\u001b[39m\u001b[33m/home/romilly/git/active/s2ag-corpus/data/graphs/citations-01.graphml\u001b[39m\u001b[33m'\u001b[39m  \u001b[38;5;66;03m# Replace with your GraphML file\u001b[39;00m\n\u001b[32m      2\u001b[39m output_file = \u001b[33m'\u001b[39m\u001b[33mcitations-01.dot\u001b[39m\u001b[33m'\u001b[39m  \u001b[38;5;66;03m# Desired DOT file output name\u001b[39;00m\n\u001b[32m----> \u001b[39m\u001b[32m3\u001b[39m \u001b[43mconvert_graphml_to_dot\u001b[49m\u001b[43m(\u001b[49m\u001b[43minput_file\u001b[49m\u001b[43m,\u001b[49m\u001b[43m \u001b[49m\u001b[43moutput_file\u001b[49m\u001b[43m)\u001b[49m\n\u001b[32m      4\u001b[39m \u001b[38;5;28mprint\u001b[39m(\u001b[33mf\u001b[39m\u001b[33m\"\u001b[39m\u001b[33mConverted \u001b[39m\u001b[38;5;132;01m{\u001b[39;00minput_file\u001b[38;5;132;01m}\u001b[39;00m\u001b[33m to \u001b[39m\u001b[38;5;132;01m{\u001b[39;00moutput_file\u001b[38;5;132;01m}\u001b[39;00m\u001b[33m\"\u001b[39m)\n",
      "\u001b[36mCell\u001b[39m\u001b[36m \u001b[39m\u001b[32mIn[3]\u001b[39m\u001b[32m, line 3\u001b[39m, in \u001b[36mconvert_graphml_to_dot\u001b[39m\u001b[34m(input_file, output_file)\u001b[39m\n\u001b[32m      1\u001b[39m \u001b[38;5;28;01mdef\u001b[39;00m\u001b[38;5;250m \u001b[39m\u001b[34mconvert_graphml_to_dot\u001b[39m(input_file, output_file):\n\u001b[32m      2\u001b[39m     \u001b[38;5;66;03m# Read the GraphML file\u001b[39;00m\n\u001b[32m----> \u001b[39m\u001b[32m3\u001b[39m     G = \u001b[43mnx\u001b[49m\u001b[43m.\u001b[49m\u001b[43mread_graphml\u001b[49m\u001b[43m(\u001b[49m\u001b[43minput_file\u001b[49m\u001b[43m)\u001b[49m\n\u001b[32m      4\u001b[39m     \u001b[38;5;28mprint\u001b[39m(G)\n\u001b[32m      7\u001b[39m     \u001b[38;5;66;03m# Write to a DOT file\u001b[39;00m\n",
      "\u001b[36mFile \u001b[39m\u001b[32m~/s2ag-corpus/venv/lib/python3.12/site-packages/networkx/utils/decorators.py:784\u001b[39m, in \u001b[36margmap.__call__.<locals>.func\u001b[39m\u001b[34m(_argmap__wrapper, *args, **kwargs)\u001b[39m\n\u001b[32m    783\u001b[39m \u001b[38;5;28;01mdef\u001b[39;00m\u001b[38;5;250m \u001b[39m\u001b[34mfunc\u001b[39m(*args, __wrapper=\u001b[38;5;28;01mNone\u001b[39;00m, **kwargs):\n\u001b[32m--> \u001b[39m\u001b[32m784\u001b[39m     \u001b[38;5;28;01mreturn\u001b[39;00m \u001b[43margmap\u001b[49m\u001b[43m.\u001b[49m\u001b[43m_lazy_compile\u001b[49m\u001b[43m(\u001b[49m\u001b[43m__wrapper\u001b[49m\u001b[43m)\u001b[49m\u001b[43m(\u001b[49m\u001b[43m*\u001b[49m\u001b[43margs\u001b[49m\u001b[43m,\u001b[49m\u001b[43m \u001b[49m\u001b[43m*\u001b[49m\u001b[43m*\u001b[49m\u001b[43mkwargs\u001b[49m\u001b[43m)\u001b[49m\n",
      "\u001b[36mFile \u001b[39m\u001b[32m<class 'networkx.utils.decorators.argmap'> compilation 6:3\u001b[39m, in \u001b[36margmap_read_graphml_1\u001b[39m\u001b[34m(path, node_type, edge_key_type, force_multigraph, backend, **backend_kwargs)\u001b[39m\n\u001b[32m      1\u001b[39m \u001b[38;5;28;01mimport\u001b[39;00m\u001b[38;5;250m \u001b[39m\u001b[34;01mbz2\u001b[39;00m\n\u001b[32m      2\u001b[39m \u001b[38;5;28;01mimport\u001b[39;00m\u001b[38;5;250m \u001b[39m\u001b[34;01mcollections\u001b[39;00m\n\u001b[32m----> \u001b[39m\u001b[32m3\u001b[39m \u001b[38;5;28;01mimport\u001b[39;00m\u001b[38;5;250m \u001b[39m\u001b[34;01mgzip\u001b[39;00m\n\u001b[32m      4\u001b[39m \u001b[38;5;28;01mimport\u001b[39;00m\u001b[38;5;250m \u001b[39m\u001b[34;01minspect\u001b[39;00m\n\u001b[32m      5\u001b[39m \u001b[38;5;28;01mimport\u001b[39;00m\u001b[38;5;250m \u001b[39m\u001b[34;01mitertools\u001b[39;00m\n",
      "\u001b[36mFile \u001b[39m\u001b[32m~/s2ag-corpus/venv/lib/python3.12/site-packages/networkx/utils/decorators.py:194\u001b[39m, in \u001b[36mopen_file.<locals>._open_file\u001b[39m\u001b[34m(path)\u001b[39m\n\u001b[32m    190\u001b[39m \u001b[38;5;28;01melse\u001b[39;00m:\n\u001b[32m    191\u001b[39m     \u001b[38;5;66;03m# could be None, or a file handle, in which case the algorithm will deal with it\u001b[39;00m\n\u001b[32m    192\u001b[39m     \u001b[38;5;28;01mreturn\u001b[39;00m path, \u001b[38;5;28;01mlambda\u001b[39;00m: \u001b[38;5;28;01mNone\u001b[39;00m\n\u001b[32m--> \u001b[39m\u001b[32m194\u001b[39m fobj = \u001b[43m_dispatch_dict\u001b[49m\u001b[43m[\u001b[49m\u001b[43mext\u001b[49m\u001b[43m]\u001b[49m\u001b[43m(\u001b[49m\u001b[43mpath\u001b[49m\u001b[43m,\u001b[49m\u001b[43m \u001b[49m\u001b[43mmode\u001b[49m\u001b[43m=\u001b[49m\u001b[43mmode\u001b[49m\u001b[43m)\u001b[49m\n\u001b[32m    195\u001b[39m \u001b[38;5;28;01mreturn\u001b[39;00m fobj, \u001b[38;5;28;01mlambda\u001b[39;00m: fobj.close()\n",
      "\u001b[31mFileNotFoundError\u001b[39m: [Errno 2] No such file or directory: '/home/romilly/git/active/s2ag-corpus/data/graphs/citations-01.graphml'"
     ]
    }
   ],
   "source": [
    "input_file = '/home/romilly/git/active/s2ag-corpus/data/graphs/citations-01.graphml'  # Replace with your GraphML file\n",
    "output_file = 'citations-01.dot'  # Desired DOT file output name\n",
    "convert_graphml_to_dot(input_file, output_file)\n",
    "print(f\"Converted {input_file} to {output_file}\")"
   ]
  },
  {
   "cell_type": "code",
   "execution_count": 14,
   "id": "542cf2251f5256fc",
   "metadata": {
    "ExecuteTime": {
     "end_time": "2024-06-03T14:51:34.559324292Z",
     "start_time": "2024-06-03T14:51:34.504866767Z"
    },
    "collapsed": false,
    "jupyter": {
     "outputs_hidden": false
    }
   },
   "outputs": [],
   "source": [
    "from s2ag_corpus.citation_graphs.citation import Citation\n",
    "import pydot\n",
    "\n",
    "def parse_dot_file(dot_file):\n",
    "    # Parse the DOT file using pydot\n",
    "    graphs = pydot.graph_from_dot_file(dot_file)\n",
    "    graph = graphs[0]  # Assume the DOT file contains one graph\n",
    "\n",
    "    # Create a mapping from node names to labels (citation IDs)\n",
    "    node_label_map = {}\n",
    "    for node in graph.get_nodes():\n",
    "        name = node.get_name()\n",
    "        label = node.get_attributes().get('label', name)\n",
    "        label = label.strip('\"')  # Remove any surrounding quotes\n",
    "        node_label_map[name] = int(label)  # Assuming labels are integers\n",
    "\n",
    "    citations = []\n",
    "\n",
    "    for edge in graph.get_edges():\n",
    "        citing_name = edge.get_source()\n",
    "        cited_name = edge.get_destination()\n",
    "        citing_id = node_label_map[citing_name]\n",
    "        cited_id = node_label_map[cited_name]\n",
    "        label = edge.get_attributes().get('label', '')\n",
    "        is_influential = bool(label)  # Non-empty label indicates influential\n",
    "\n",
    "        citation = Citation(\n",
    "            citing_corpus_id=citing_id,\n",
    "            cited_corpus_id=cited_id,\n",
    "            is_influential=is_influential\n",
    "        )\n",
    "        citations.append(citation)\n",
    "\n",
    "    return citations\n"
   ]
  },
  {
   "cell_type": "code",
   "execution_count": 15,
   "id": "44462aed6bd2d499",
   "metadata": {
    "ExecuteTime": {
     "end_time": "2024-06-03T14:51:35.233187602Z",
     "start_time": "2024-06-03T14:51:35.216850230Z"
    },
    "collapsed": false,
    "jupyter": {
     "outputs_hidden": false
    }
   },
   "outputs": [],
   "source": [
    "\n",
    "dot_file = 'citations-01.dot'  # Replace with your DOT file path\n",
    "citations = parse_dot_file(dot_file)\n",
    "\n"
   ]
  },
  {
   "cell_type": "code",
   "execution_count": 16,
   "id": "abb4dfd549d1cc5a",
   "metadata": {
    "ExecuteTime": {
     "end_time": "2024-06-03T14:51:57.048608953Z",
     "start_time": "2024-06-03T14:51:56.953008203Z"
    },
    "collapsed": false,
    "jupyter": {
     "outputs_hidden": false
    }
   },
   "outputs": [
    {
     "data": {
      "text/plain": [
       "[Citation(citing_corpus_id=2, cited_corpus_id=1, is_influential=False),\n",
       " Citation(citing_corpus_id=3, cited_corpus_id=1, is_influential=True),\n",
       " Citation(citing_corpus_id=4, cited_corpus_id=2, is_influential=False),\n",
       " Citation(citing_corpus_id=4, cited_corpus_id=1, is_influential=True),\n",
       " Citation(citing_corpus_id=5, cited_corpus_id=2, is_influential=False),\n",
       " Citation(citing_corpus_id=6, cited_corpus_id=3, is_influential=False),\n",
       " Citation(citing_corpus_id=6, cited_corpus_id=2, is_influential=True)]"
      ]
     },
     "execution_count": 16,
     "metadata": {},
     "output_type": "execute_result"
    }
   ],
   "source": [
    "citations"
   ]
  },
  {
   "cell_type": "code",
   "execution_count": null,
   "id": "78799e7642907814",
   "metadata": {
    "collapsed": false,
    "jupyter": {
     "outputs_hidden": false
    }
   },
   "outputs": [],
   "source": []
  }
 ],
 "metadata": {
  "kernelspec": {
   "display_name": "Python 3 (ipykernel)",
   "language": "python",
   "name": "python3"
  },
  "language_info": {
   "codemirror_mode": {
    "name": "ipython",
    "version": 3
   },
   "file_extension": ".py",
   "mimetype": "text/x-python",
   "name": "python",
   "nbconvert_exporter": "python",
   "pygments_lexer": "ipython3",
   "version": "3.12.3"
  }
 },
 "nbformat": 4,
 "nbformat_minor": 5
}
