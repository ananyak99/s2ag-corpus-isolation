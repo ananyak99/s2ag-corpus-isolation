{
 "cells": [
  {
   "cell_type": "code",
   "execution_count": 1,
   "id": "6585a70f-9843-47ac-8ec1-e9a708923005",
   "metadata": {},
   "outputs": [
    {
     "ename": "KeyError",
     "evalue": "'files'",
     "output_type": "error",
     "traceback": [
      "\u001b[31m---------------------------------------------------------------------------\u001b[39m",
      "\u001b[31mKeyError\u001b[39m                                  Traceback (most recent call last)",
      "\u001b[36mCell\u001b[39m\u001b[36m \u001b[39m\u001b[32mIn[1]\u001b[39m\u001b[32m, line 16\u001b[39m\n\u001b[32m     14\u001b[39m \u001b[38;5;66;03m# 4. pick a dataset, e.g. \"papers\", get download links\u001b[39;00m\n\u001b[32m     15\u001b[39m dl_info = requests.get(\u001b[33mf\u001b[39m\u001b[33m\"\u001b[39m\u001b[38;5;132;01m{\u001b[39;00mAPI\u001b[38;5;132;01m}\u001b[39;00m\u001b[33m/datasets/v1/release/\u001b[39m\u001b[38;5;132;01m{\u001b[39;00mtarget\u001b[38;5;132;01m}\u001b[39;00m\u001b[33m/dataset/papers/\u001b[39m\u001b[33m\"\u001b[39m).json()\n\u001b[32m---> \u001b[39m\u001b[32m16\u001b[39m files = \u001b[43mdl_info\u001b[49m\u001b[43m[\u001b[49m\u001b[33;43m\"\u001b[39;49m\u001b[33;43mfiles\u001b[39;49m\u001b[33;43m\"\u001b[39;49m\u001b[43m]\u001b[49m\n\u001b[32m     17\u001b[39m \u001b[38;5;28;01mfor\u001b[39;00m url \u001b[38;5;129;01min\u001b[39;00m files:\n\u001b[32m     18\u001b[39m     \u001b[38;5;66;03m# download url (e.g. via wget or requests)\u001b[39;00m\n\u001b[32m     19\u001b[39m     \u001b[38;5;28mprint\u001b[39m(url)\n",
      "\u001b[31mKeyError\u001b[39m: 'files'"
     ]
    }
   ],
   "source": [
    "import requests\n",
    "\n",
    "API = \"https://api.semanticscholar.org\"\n",
    "# 1. get all release IDs\n",
    "resp = requests.get(f\"{API}/datasets/v1/release/\")\n",
    "releases = resp.json()  # e.g. [\"2023-xx\", \"2024-xx\", \"2025-xx\"] etc.\n",
    "\n",
    "# 2. pick second last\n",
    "target = releases[-2]\n",
    "\n",
    "# 3. list datasets in that release\n",
    "ds_list = requests.get(f\"{API}/datasets/v1/release/{target}/\").json()\n",
    "\n",
    "# 4. pick a dataset, e.g. \"papers\", get download links\n",
    "dl_info = requests.get(f\"{API}/datasets/v1/release/{target}/dataset/papers/\").json()\n",
    "files = dl_info[\"files\"]\n",
    "for url in files:\n",
    "    # download url (e.g. via wget or requests)\n",
    "    print(url)\n"
   ]
  },
  {
   "cell_type": "code",
   "execution_count": null,
   "id": "9ff77eb6-3945-4253-ae1c-e061131b86fd",
   "metadata": {},
   "outputs": [],
   "source": []
  }
 ],
 "metadata": {
  "kernelspec": {
   "display_name": "Python (s2ag)",
   "language": "python",
   "name": "s2ag-env"
  },
  "language_info": {
   "codemirror_mode": {
    "name": "ipython",
    "version": 3
   },
   "file_extension": ".py",
   "mimetype": "text/x-python",
   "name": "python",
   "nbconvert_exporter": "python",
   "pygments_lexer": "ipython3",
   "version": "3.12.3"
  }
 },
 "nbformat": 4,
 "nbformat_minor": 5
}
